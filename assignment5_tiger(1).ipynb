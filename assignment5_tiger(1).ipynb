{
  "cells": [
    {
      "cell_type": "code",
      "execution_count": 224,
      "metadata": {
        "id": "0AQltd_WBwIZ"
      },
      "outputs": [],
      "source": [
        "import numpy as np\n",
        "import pandas as pd\n",
        "from collections import Counter"
      ]
    },
    {
      "cell_type": "code",
      "execution_count": 225,
      "metadata": {
        "id": "-7fU-Fh4BwIb"
      },
      "outputs": [],
      "source": [
        "# Define the KNN class\n",
        "class KNN:\n",
        "    def __init__(self, k=3, distance_metric='euclidean', weights='uniform'):\n",
        "        self.k = k\n",
        "        self.distance_metric = distance_metric\n",
        "        self.weights = weights\n",
        "\n",
        "    def fit(self, X, y):\n",
        "        self.x_train = X\n",
        "        self.y_train = y\n",
        "\n",
        "\n",
        "    def predict(self, X):\n",
        "\n",
        "        predictions = []\n",
        "        for x in X:\n",
        "            distances = self.compute_distance(x, self.x_train)\n",
        "            k_indices = np.argsort(distances)[:self.k]\n",
        "            k_nearest_labels = [self.y_train[i] for i in k_indices]\n",
        "            most_common = np.argmax(np.bincount(k_nearest_labels))\n",
        "            predictions.append(most_common)\n",
        "        return np.array(predictions)\n",
        "\n",
        "\n",
        "    def compute_distance(self, X1, X2):\n",
        "        if self.distance_metric == 'euclidean':\n",
        "            return np.sqrt(np.sum((X1 - X2) ** 2, axis=1))\n",
        "        elif self.distance_metric == 'manhattan':\n",
        "            return np.sum(np.abs(X1 - X2), axis=1)\n",
        "        else:\n",
        "            raise ValueError(f\"Unsupported distance metric: {self.distance_metric}\")\n"
      ]
    },
    {
      "cell_type": "code",
      "execution_count": 226,
      "metadata": {
        "id": "gYLbHKjUBwIb"
      },
      "outputs": [],
      "source": [
        "\n",
        "\n",
        "# Define data preprocessing function\n",
        "def preprocess_data(train_path, test_path):\n",
        "    train_data = pd.read_csv(train_path)\n",
        "    test_data = pd.read_csv(test_path)\n",
        "\n",
        "    # Transform categorical variables, scale features, Should also handle potential missing values?\n",
        "\n",
        "    # Dropping uneeded data\n",
        "    train_data = train_data.drop(columns=['id', 'CustomerId', 'Surname', \"Geography\", \"HasCrCard\", \"IsActiveMember\"], errors='ignore')\n",
        "    test_data = test_data.drop(columns=['id', 'CustomerId', 'Surname', \"Geography\", \"HasCrCard\", \"IsActiveMember\"], errors='ignore')\n",
        "    X_train = train_data.drop('Exited', axis=1)\n",
        "    y_train = train_data['Exited']\n",
        "\n",
        "\n",
        "    # Trasnform categorical variables\n",
        "    X_train = pd.get_dummies(X_train, drop_first=True)\n",
        "    X_test = pd.get_dummies(test_data, drop_first=True)\n",
        "\n",
        "    X_test = X_test.reindex(columns=X_train.columns, fill_value=0)\n",
        "\n",
        "    # scale values\n",
        "    X_train = (X_train - X_train.mean()) / X_train.std()\n",
        "    X_test = (X_test - X_train.mean()) / X_train.std()\n",
        "\n",
        "    return X_train.to_numpy(), y_train.to_numpy(), X_test.to_numpy()"
      ]
    },
    {
      "cell_type": "code",
      "execution_count": 227,
      "metadata": {
        "id": "G58J9_ClBwIb"
      },
      "outputs": [],
      "source": [
        "def roc_auc(y_true, y_pred_prob):\n",
        "    sorted_indices = np.argsort(-y_pred_prob)\n",
        "    y_true_sorted = y_true[sorted_indices]\n",
        "\n",
        "    tpr = np.cumsum(y_true_sorted == 1) / np.sum(y_true == 1)\n",
        "    fpr = np.cumsum(y_true_sorted == 0) / np.sum(y_true == 0)\n",
        "\n",
        "    auc = np.trapz(tpr, fpr)\n",
        "\n",
        "    return auc\n",
        "\n",
        "def cross_validate(X, y, knn, n_splits=5):\n",
        "    indices = np.arange(len(X))\n",
        "    np.random.shuffle(indices)\n",
        "\n",
        "    fold_size = len(X) // n_splits\n",
        "    roc_auc_scores = []\n",
        "\n",
        "    for fold in range(n_splits):\n",
        "        start = fold * fold_size\n",
        "        end = (fold + 1) * fold_size\n",
        "        val_idx = indices[start:end]\n",
        "        train_idx = np.concatenate([indices[:start], indices[end:]])\n",
        "\n",
        "        X_train, X_val = X[train_idx], X[val_idx]\n",
        "        y_train, y_val = y[train_idx], y[val_idx]\n",
        "\n",
        "        knn.fit(X_train, y_train)\n",
        "\n",
        "        # Get predicted probabilities\n",
        "        y_pred_prob = knn.predict(X_val)\n",
        "\n",
        "        # Calculate ROC AUC score\n",
        "        roc_score = roc_auc(y_val, y_pred_prob)\n",
        "        roc_auc_scores.append(roc_score)\n",
        "\n",
        "    return np.mean(roc_auc_scores)"
      ]
    },
    {
      "cell_type": "code",
      "execution_count": 228,
      "metadata": {
        "colab": {
          "base_uri": "https://localhost:8080/"
        },
        "id": "8sL95vxhBwIc",
        "outputId": "f7fe7707-5b95-4cc1-8647-69f9de4c8f14"
      },
      "outputs": [
        {
          "output_type": "stream",
          "name": "stdout",
          "text": [
            "Cross-validation scores: 0.766565086914876\n",
            "k=1, distance=euclidean, score=0.7384\n",
            "k=1, distance=manhattan, score=0.7390\n",
            "k=2, distance=euclidean, score=0.7007\n",
            "k=2, distance=manhattan, score=0.6955\n",
            "k=3, distance=euclidean, score=0.7549\n",
            "k=3, distance=manhattan, score=0.7658\n",
            "k=4, distance=euclidean, score=0.7306\n",
            "k=4, distance=manhattan, score=0.7327\n",
            "k=5, distance=euclidean, score=0.7763\n",
            "k=5, distance=manhattan, score=0.7695\n",
            "k=6, distance=euclidean, score=0.7466\n",
            "k=6, distance=manhattan, score=0.7447\n",
            "k=7, distance=euclidean, score=0.7653\n",
            "k=7, distance=manhattan, score=0.7661\n",
            "k=8, distance=euclidean, score=0.7524\n",
            "k=8, distance=manhattan, score=0.7444\n",
            "k=9, distance=euclidean, score=0.7673\n",
            "k=9, distance=manhattan, score=0.7668\n",
            "k=10, distance=euclidean, score=0.7521\n",
            "k=10, distance=manhattan, score=0.7538\n",
            "k=11, distance=euclidean, score=0.7720\n",
            "k=11, distance=manhattan, score=0.7686\n",
            "k=12, distance=euclidean, score=0.7583\n",
            "k=12, distance=manhattan, score=0.7528\n",
            "k=13, distance=euclidean, score=0.7653\n",
            "k=13, distance=manhattan, score=0.7634\n",
            "k=14, distance=euclidean, score=0.7547\n",
            "k=14, distance=manhattan, score=0.7546\n",
            "k=15, distance=euclidean, score=0.7684\n",
            "k=15, distance=manhattan, score=0.7643\n",
            "Best k: 5\n",
            "Best distance: euclidean\n",
            "Best score: 0.7762900486008606\n"
          ]
        }
      ],
      "source": [
        "# Load and preprocess data\n",
        "X, y, X_test = preprocess_data('train.csv', 'test.csv')\n",
        "\n",
        "# Create and evaluate model\n",
        "knn = KNN(k=5, distance_metric='euclidean')\n",
        "\n",
        "# Perform cross-validation\n",
        "cv_scores = cross_validate(X, y, knn)\n",
        "\n",
        "print(\"Cross-validation scores:\", cv_scores)\n",
        "\n",
        "# TODO: hyperparamters tuning\n",
        "best_k = None\n",
        "best_distance = None\n",
        "best_score = 0\n",
        "for k in range(1, 16):\n",
        "    for distance in ['euclidean', 'manhattan']:\n",
        "        knn = KNN(k=k, distance_metric=distance)\n",
        "        score = cross_validate(X, y, knn)\n",
        "        print(f\"k={k}, distance={distance}, score={score:.4f}\")\n",
        "        if score > best_score:\n",
        "            best_score = score\n",
        "            best_k = k\n",
        "            best_distance = distance\n",
        "\n",
        "print(\"Best k:\", best_k)\n",
        "print(\"Best distance:\", best_distance)\n",
        "print(\"Best score:\", best_score)\n",
        "\n",
        "# TODO: Train on full dataset with optimal hyperparameters and make predictions on test set\n",
        "knn = KNN(k=best_k, distance_metric=best_distance)\n",
        "knn.fit(X, y)\n",
        "test_predictions = knn.predict(X_test)\n",
        "\n",
        "# Save test predictions\n",
        "pd.DataFrame({'id': pd.read_csv('test.csv')['id'], 'Exited': test_predictions}).to_csv('submissions.csv', index=False)"
      ]
    }
  ],
  "metadata": {
    "kernelspec": {
      "display_name": "cs506",
      "language": "python",
      "name": "python3"
    },
    "language_info": {
      "codemirror_mode": {
        "name": "ipython",
        "version": 3
      },
      "file_extension": ".py",
      "mimetype": "text/x-python",
      "name": "python",
      "nbconvert_exporter": "python",
      "pygments_lexer": "ipython3",
      "version": "3.10.15"
    },
    "colab": {
      "provenance": []
    }
  },
  "nbformat": 4,
  "nbformat_minor": 0
}